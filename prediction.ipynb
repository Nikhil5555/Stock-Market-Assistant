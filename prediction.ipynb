{
 "cells": [
  {
   "cell_type": "code",
   "execution_count": 1,
   "metadata": {},
   "outputs": [
    {
     "name": "stdout",
     "output_type": "stream",
     "text": [
      "Enter Stock ticker:AAPL\n"
     ]
    },
    {
     "data": {
      "text/html": [
       "<div>\n",
       "<style scoped>\n",
       "    .dataframe tbody tr th:only-of-type {\n",
       "        vertical-align: middle;\n",
       "    }\n",
       "\n",
       "    .dataframe tbody tr th {\n",
       "        vertical-align: top;\n",
       "    }\n",
       "\n",
       "    .dataframe thead th {\n",
       "        text-align: right;\n",
       "    }\n",
       "</style>\n",
       "<table border=\"1\" class=\"dataframe\">\n",
       "  <thead>\n",
       "    <tr style=\"text-align: right;\">\n",
       "      <th></th>\n",
       "      <th>High</th>\n",
       "      <th>Low</th>\n",
       "      <th>Open</th>\n",
       "      <th>Close</th>\n",
       "      <th>Volume</th>\n",
       "      <th>Adj Close</th>\n",
       "    </tr>\n",
       "    <tr>\n",
       "      <th>Date</th>\n",
       "      <th></th>\n",
       "      <th></th>\n",
       "      <th></th>\n",
       "      <th></th>\n",
       "      <th></th>\n",
       "      <th></th>\n",
       "    </tr>\n",
       "  </thead>\n",
       "  <tbody>\n",
       "    <tr>\n",
       "      <th>2021-03-10</th>\n",
       "      <td>122.169998</td>\n",
       "      <td>119.449997</td>\n",
       "      <td>121.690002</td>\n",
       "      <td>119.980003</td>\n",
       "      <td>111943300.0</td>\n",
       "      <td>119.271111</td>\n",
       "    </tr>\n",
       "    <tr>\n",
       "      <th>2021-03-11</th>\n",
       "      <td>123.209999</td>\n",
       "      <td>121.260002</td>\n",
       "      <td>122.540001</td>\n",
       "      <td>121.959999</td>\n",
       "      <td>103026500.0</td>\n",
       "      <td>121.239410</td>\n",
       "    </tr>\n",
       "    <tr>\n",
       "      <th>2021-03-12</th>\n",
       "      <td>121.169998</td>\n",
       "      <td>119.160004</td>\n",
       "      <td>120.400002</td>\n",
       "      <td>121.029999</td>\n",
       "      <td>88105100.0</td>\n",
       "      <td>120.314903</td>\n",
       "    </tr>\n",
       "    <tr>\n",
       "      <th>2021-03-15</th>\n",
       "      <td>124.000000</td>\n",
       "      <td>120.419998</td>\n",
       "      <td>121.410004</td>\n",
       "      <td>123.989998</td>\n",
       "      <td>92403800.0</td>\n",
       "      <td>123.257416</td>\n",
       "    </tr>\n",
       "    <tr>\n",
       "      <th>2021-03-16</th>\n",
       "      <td>127.220001</td>\n",
       "      <td>124.720001</td>\n",
       "      <td>125.699997</td>\n",
       "      <td>125.570000</td>\n",
       "      <td>115227900.0</td>\n",
       "      <td>124.828079</td>\n",
       "    </tr>\n",
       "  </tbody>\n",
       "</table>\n",
       "</div>"
      ],
      "text/plain": [
       "                  High         Low        Open       Close       Volume  \\\n",
       "Date                                                                      \n",
       "2021-03-10  122.169998  119.449997  121.690002  119.980003  111943300.0   \n",
       "2021-03-11  123.209999  121.260002  122.540001  121.959999  103026500.0   \n",
       "2021-03-12  121.169998  119.160004  120.400002  121.029999   88105100.0   \n",
       "2021-03-15  124.000000  120.419998  121.410004  123.989998   92403800.0   \n",
       "2021-03-16  127.220001  124.720001  125.699997  125.570000  115227900.0   \n",
       "\n",
       "             Adj Close  \n",
       "Date                    \n",
       "2021-03-10  119.271111  \n",
       "2021-03-11  121.239410  \n",
       "2021-03-12  120.314903  \n",
       "2021-03-15  123.257416  \n",
       "2021-03-16  124.828079  "
      ]
     },
     "execution_count": 1,
     "metadata": {},
     "output_type": "execute_result"
    }
   ],
   "source": [
    "import pandas as pd\n",
    "import numpy as np\n",
    "import pandas_datareader as data\n",
    "import matplotlib.pyplot as plt\n",
    "from datetime import date\n",
    "from dateutil.relativedelta import relativedelta\n",
    "\n",
    "start =  (date.today() - relativedelta(years = 1)).strftime(\"%Y-%m-%d\")\n",
    "end = date.today().strftime(\"%Y-%m-%d\")\n",
    "stock_ticker = input(\"Enter Stock ticker:\")\n",
    "df = data.DataReader(stock_ticker, 'yahoo', start, end)\n",
    "df.head()"
   ]
  },
  {
   "cell_type": "code",
   "execution_count": 2,
   "metadata": {},
   "outputs": [
    {
     "data": {
      "text/html": [
       "<div>\n",
       "<style scoped>\n",
       "    .dataframe tbody tr th:only-of-type {\n",
       "        vertical-align: middle;\n",
       "    }\n",
       "\n",
       "    .dataframe tbody tr th {\n",
       "        vertical-align: top;\n",
       "    }\n",
       "\n",
       "    .dataframe thead th {\n",
       "        text-align: right;\n",
       "    }\n",
       "</style>\n",
       "<table border=\"1\" class=\"dataframe\">\n",
       "  <thead>\n",
       "    <tr style=\"text-align: right;\">\n",
       "      <th></th>\n",
       "      <th>High</th>\n",
       "      <th>Low</th>\n",
       "      <th>Open</th>\n",
       "      <th>Close</th>\n",
       "      <th>Volume</th>\n",
       "      <th>Adj Close</th>\n",
       "    </tr>\n",
       "    <tr>\n",
       "      <th>Date</th>\n",
       "      <th></th>\n",
       "      <th></th>\n",
       "      <th></th>\n",
       "      <th></th>\n",
       "      <th></th>\n",
       "      <th></th>\n",
       "    </tr>\n",
       "  </thead>\n",
       "  <tbody>\n",
       "    <tr>\n",
       "      <th>2022-03-07</th>\n",
       "      <td>165.020004</td>\n",
       "      <td>159.039993</td>\n",
       "      <td>163.360001</td>\n",
       "      <td>159.300003</td>\n",
       "      <td>96418800.0</td>\n",
       "      <td>159.300003</td>\n",
       "    </tr>\n",
       "    <tr>\n",
       "      <th>2022-03-08</th>\n",
       "      <td>162.880005</td>\n",
       "      <td>155.800003</td>\n",
       "      <td>158.820007</td>\n",
       "      <td>157.440002</td>\n",
       "      <td>131148300.0</td>\n",
       "      <td>157.440002</td>\n",
       "    </tr>\n",
       "    <tr>\n",
       "      <th>2022-03-09</th>\n",
       "      <td>163.410004</td>\n",
       "      <td>159.410004</td>\n",
       "      <td>161.479996</td>\n",
       "      <td>162.949997</td>\n",
       "      <td>91454900.0</td>\n",
       "      <td>162.949997</td>\n",
       "    </tr>\n",
       "    <tr>\n",
       "      <th>2022-03-10</th>\n",
       "      <td>160.389999</td>\n",
       "      <td>155.979996</td>\n",
       "      <td>160.199997</td>\n",
       "      <td>158.520004</td>\n",
       "      <td>105180300.0</td>\n",
       "      <td>158.520004</td>\n",
       "    </tr>\n",
       "    <tr>\n",
       "      <th>2022-03-10</th>\n",
       "      <td>160.389999</td>\n",
       "      <td>155.979996</td>\n",
       "      <td>160.199997</td>\n",
       "      <td>158.520004</td>\n",
       "      <td>96831210.0</td>\n",
       "      <td>158.520004</td>\n",
       "    </tr>\n",
       "  </tbody>\n",
       "</table>\n",
       "</div>"
      ],
      "text/plain": [
       "                  High         Low        Open       Close       Volume  \\\n",
       "Date                                                                      \n",
       "2022-03-07  165.020004  159.039993  163.360001  159.300003   96418800.0   \n",
       "2022-03-08  162.880005  155.800003  158.820007  157.440002  131148300.0   \n",
       "2022-03-09  163.410004  159.410004  161.479996  162.949997   91454900.0   \n",
       "2022-03-10  160.389999  155.979996  160.199997  158.520004  105180300.0   \n",
       "2022-03-10  160.389999  155.979996  160.199997  158.520004   96831210.0   \n",
       "\n",
       "             Adj Close  \n",
       "Date                    \n",
       "2022-03-07  159.300003  \n",
       "2022-03-08  157.440002  \n",
       "2022-03-09  162.949997  \n",
       "2022-03-10  158.520004  \n",
       "2022-03-10  158.520004  "
      ]
     },
     "execution_count": 2,
     "metadata": {},
     "output_type": "execute_result"
    }
   ],
   "source": [
    "df.tail()"
   ]
  },
  {
   "cell_type": "code",
   "execution_count": 3,
   "metadata": {},
   "outputs": [
    {
     "data": {
      "text/html": [
       "<div>\n",
       "<style scoped>\n",
       "    .dataframe tbody tr th:only-of-type {\n",
       "        vertical-align: middle;\n",
       "    }\n",
       "\n",
       "    .dataframe tbody tr th {\n",
       "        vertical-align: top;\n",
       "    }\n",
       "\n",
       "    .dataframe thead th {\n",
       "        text-align: right;\n",
       "    }\n",
       "</style>\n",
       "<table border=\"1\" class=\"dataframe\">\n",
       "  <thead>\n",
       "    <tr style=\"text-align: right;\">\n",
       "      <th></th>\n",
       "      <th>Date</th>\n",
       "      <th>High</th>\n",
       "      <th>Low</th>\n",
       "      <th>Open</th>\n",
       "      <th>Close</th>\n",
       "      <th>Volume</th>\n",
       "      <th>Adj Close</th>\n",
       "    </tr>\n",
       "  </thead>\n",
       "  <tbody>\n",
       "    <tr>\n",
       "      <th>0</th>\n",
       "      <td>2021-03-10</td>\n",
       "      <td>122.169998</td>\n",
       "      <td>119.449997</td>\n",
       "      <td>121.690002</td>\n",
       "      <td>119.980003</td>\n",
       "      <td>111943300.0</td>\n",
       "      <td>119.271111</td>\n",
       "    </tr>\n",
       "    <tr>\n",
       "      <th>1</th>\n",
       "      <td>2021-03-11</td>\n",
       "      <td>123.209999</td>\n",
       "      <td>121.260002</td>\n",
       "      <td>122.540001</td>\n",
       "      <td>121.959999</td>\n",
       "      <td>103026500.0</td>\n",
       "      <td>121.239410</td>\n",
       "    </tr>\n",
       "    <tr>\n",
       "      <th>2</th>\n",
       "      <td>2021-03-12</td>\n",
       "      <td>121.169998</td>\n",
       "      <td>119.160004</td>\n",
       "      <td>120.400002</td>\n",
       "      <td>121.029999</td>\n",
       "      <td>88105100.0</td>\n",
       "      <td>120.314903</td>\n",
       "    </tr>\n",
       "    <tr>\n",
       "      <th>3</th>\n",
       "      <td>2021-03-15</td>\n",
       "      <td>124.000000</td>\n",
       "      <td>120.419998</td>\n",
       "      <td>121.410004</td>\n",
       "      <td>123.989998</td>\n",
       "      <td>92403800.0</td>\n",
       "      <td>123.257416</td>\n",
       "    </tr>\n",
       "    <tr>\n",
       "      <th>4</th>\n",
       "      <td>2021-03-16</td>\n",
       "      <td>127.220001</td>\n",
       "      <td>124.720001</td>\n",
       "      <td>125.699997</td>\n",
       "      <td>125.570000</td>\n",
       "      <td>115227900.0</td>\n",
       "      <td>124.828079</td>\n",
       "    </tr>\n",
       "  </tbody>\n",
       "</table>\n",
       "</div>"
      ],
      "text/plain": [
       "        Date        High         Low        Open       Close       Volume  \\\n",
       "0 2021-03-10  122.169998  119.449997  121.690002  119.980003  111943300.0   \n",
       "1 2021-03-11  123.209999  121.260002  122.540001  121.959999  103026500.0   \n",
       "2 2021-03-12  121.169998  119.160004  120.400002  121.029999   88105100.0   \n",
       "3 2021-03-15  124.000000  120.419998  121.410004  123.989998   92403800.0   \n",
       "4 2021-03-16  127.220001  124.720001  125.699997  125.570000  115227900.0   \n",
       "\n",
       "    Adj Close  \n",
       "0  119.271111  \n",
       "1  121.239410  \n",
       "2  120.314903  \n",
       "3  123.257416  \n",
       "4  124.828079  "
      ]
     },
     "execution_count": 3,
     "metadata": {},
     "output_type": "execute_result"
    }
   ],
   "source": [
    "df = df.reset_index()\n",
    "df.head()"
   ]
  },
  {
   "cell_type": "code",
   "execution_count": 4,
   "metadata": {},
   "outputs": [
    {
     "data": {
      "text/plain": [
       "(255, 7)"
      ]
     },
     "execution_count": 4,
     "metadata": {},
     "output_type": "execute_result"
    }
   ],
   "source": [
    "df.shape"
   ]
  },
  {
   "cell_type": "code",
   "execution_count": 5,
   "metadata": {},
   "outputs": [
    {
     "data": {
      "text/html": [
       "<div>\n",
       "<style scoped>\n",
       "    .dataframe tbody tr th:only-of-type {\n",
       "        vertical-align: middle;\n",
       "    }\n",
       "\n",
       "    .dataframe tbody tr th {\n",
       "        vertical-align: top;\n",
       "    }\n",
       "\n",
       "    .dataframe thead th {\n",
       "        text-align: right;\n",
       "    }\n",
       "</style>\n",
       "<table border=\"1\" class=\"dataframe\">\n",
       "  <thead>\n",
       "    <tr style=\"text-align: right;\">\n",
       "      <th></th>\n",
       "      <th>Date</th>\n",
       "      <th>High</th>\n",
       "      <th>Low</th>\n",
       "      <th>Open</th>\n",
       "      <th>Close</th>\n",
       "      <th>Volume</th>\n",
       "      <th>Adj Close</th>\n",
       "    </tr>\n",
       "  </thead>\n",
       "  <tbody>\n",
       "    <tr>\n",
       "      <th>155</th>\n",
       "      <td>2021-10-19</td>\n",
       "      <td>149.169998</td>\n",
       "      <td>146.550003</td>\n",
       "      <td>147.009995</td>\n",
       "      <td>148.759995</td>\n",
       "      <td>76378900.0</td>\n",
       "      <td>148.354187</td>\n",
       "    </tr>\n",
       "    <tr>\n",
       "      <th>156</th>\n",
       "      <td>2021-10-20</td>\n",
       "      <td>149.750000</td>\n",
       "      <td>148.119995</td>\n",
       "      <td>148.699997</td>\n",
       "      <td>149.259995</td>\n",
       "      <td>58418800.0</td>\n",
       "      <td>148.852829</td>\n",
       "    </tr>\n",
       "    <tr>\n",
       "      <th>157</th>\n",
       "      <td>2021-10-21</td>\n",
       "      <td>149.639999</td>\n",
       "      <td>147.869995</td>\n",
       "      <td>148.809998</td>\n",
       "      <td>149.479996</td>\n",
       "      <td>61421000.0</td>\n",
       "      <td>149.072235</td>\n",
       "    </tr>\n",
       "    <tr>\n",
       "      <th>158</th>\n",
       "      <td>2021-10-22</td>\n",
       "      <td>150.179993</td>\n",
       "      <td>148.639999</td>\n",
       "      <td>149.690002</td>\n",
       "      <td>148.690002</td>\n",
       "      <td>58883400.0</td>\n",
       "      <td>148.284393</td>\n",
       "    </tr>\n",
       "    <tr>\n",
       "      <th>159</th>\n",
       "      <td>2021-10-25</td>\n",
       "      <td>149.369995</td>\n",
       "      <td>147.619995</td>\n",
       "      <td>148.679993</td>\n",
       "      <td>148.639999</td>\n",
       "      <td>50720600.0</td>\n",
       "      <td>148.234528</td>\n",
       "    </tr>\n",
       "    <tr>\n",
       "      <th>...</th>\n",
       "      <td>...</td>\n",
       "      <td>...</td>\n",
       "      <td>...</td>\n",
       "      <td>...</td>\n",
       "      <td>...</td>\n",
       "      <td>...</td>\n",
       "      <td>...</td>\n",
       "    </tr>\n",
       "    <tr>\n",
       "      <th>250</th>\n",
       "      <td>2022-03-07</td>\n",
       "      <td>165.020004</td>\n",
       "      <td>159.039993</td>\n",
       "      <td>163.360001</td>\n",
       "      <td>159.300003</td>\n",
       "      <td>96418800.0</td>\n",
       "      <td>159.300003</td>\n",
       "    </tr>\n",
       "    <tr>\n",
       "      <th>251</th>\n",
       "      <td>2022-03-08</td>\n",
       "      <td>162.880005</td>\n",
       "      <td>155.800003</td>\n",
       "      <td>158.820007</td>\n",
       "      <td>157.440002</td>\n",
       "      <td>131148300.0</td>\n",
       "      <td>157.440002</td>\n",
       "    </tr>\n",
       "    <tr>\n",
       "      <th>252</th>\n",
       "      <td>2022-03-09</td>\n",
       "      <td>163.410004</td>\n",
       "      <td>159.410004</td>\n",
       "      <td>161.479996</td>\n",
       "      <td>162.949997</td>\n",
       "      <td>91454900.0</td>\n",
       "      <td>162.949997</td>\n",
       "    </tr>\n",
       "    <tr>\n",
       "      <th>253</th>\n",
       "      <td>2022-03-10</td>\n",
       "      <td>160.389999</td>\n",
       "      <td>155.979996</td>\n",
       "      <td>160.199997</td>\n",
       "      <td>158.520004</td>\n",
       "      <td>105180300.0</td>\n",
       "      <td>158.520004</td>\n",
       "    </tr>\n",
       "    <tr>\n",
       "      <th>254</th>\n",
       "      <td>2022-03-10</td>\n",
       "      <td>160.389999</td>\n",
       "      <td>155.979996</td>\n",
       "      <td>160.199997</td>\n",
       "      <td>158.520004</td>\n",
       "      <td>96831210.0</td>\n",
       "      <td>158.520004</td>\n",
       "    </tr>\n",
       "  </tbody>\n",
       "</table>\n",
       "<p>100 rows × 7 columns</p>\n",
       "</div>"
      ],
      "text/plain": [
       "          Date        High         Low        Open       Close       Volume  \\\n",
       "155 2021-10-19  149.169998  146.550003  147.009995  148.759995   76378900.0   \n",
       "156 2021-10-20  149.750000  148.119995  148.699997  149.259995   58418800.0   \n",
       "157 2021-10-21  149.639999  147.869995  148.809998  149.479996   61421000.0   \n",
       "158 2021-10-22  150.179993  148.639999  149.690002  148.690002   58883400.0   \n",
       "159 2021-10-25  149.369995  147.619995  148.679993  148.639999   50720600.0   \n",
       "..         ...         ...         ...         ...         ...          ...   \n",
       "250 2022-03-07  165.020004  159.039993  163.360001  159.300003   96418800.0   \n",
       "251 2022-03-08  162.880005  155.800003  158.820007  157.440002  131148300.0   \n",
       "252 2022-03-09  163.410004  159.410004  161.479996  162.949997   91454900.0   \n",
       "253 2022-03-10  160.389999  155.979996  160.199997  158.520004  105180300.0   \n",
       "254 2022-03-10  160.389999  155.979996  160.199997  158.520004   96831210.0   \n",
       "\n",
       "      Adj Close  \n",
       "155  148.354187  \n",
       "156  148.852829  \n",
       "157  149.072235  \n",
       "158  148.284393  \n",
       "159  148.234528  \n",
       "..          ...  \n",
       "250  159.300003  \n",
       "251  157.440002  \n",
       "252  162.949997  \n",
       "253  158.520004  \n",
       "254  158.520004  \n",
       "\n",
       "[100 rows x 7 columns]"
      ]
     },
     "execution_count": 5,
     "metadata": {},
     "output_type": "execute_result"
    }
   ],
   "source": [
    "prediction_input = df[-100:]\n",
    "prediction_input"
   ]
  },
  {
   "cell_type": "code",
   "execution_count": 6,
   "metadata": {},
   "outputs": [],
   "source": [
    "from sklearn.preprocessing import MinMaxScaler\n",
    "scaler = MinMaxScaler(feature_range=(0,1))"
   ]
  },
  {
   "cell_type": "code",
   "execution_count": 7,
   "metadata": {},
   "outputs": [
    {
     "data": {
      "text/html": [
       "<div>\n",
       "<style scoped>\n",
       "    .dataframe tbody tr th:only-of-type {\n",
       "        vertical-align: middle;\n",
       "    }\n",
       "\n",
       "    .dataframe tbody tr th {\n",
       "        vertical-align: top;\n",
       "    }\n",
       "\n",
       "    .dataframe thead th {\n",
       "        text-align: right;\n",
       "    }\n",
       "</style>\n",
       "<table border=\"1\" class=\"dataframe\">\n",
       "  <thead>\n",
       "    <tr style=\"text-align: right;\">\n",
       "      <th></th>\n",
       "      <th>Close</th>\n",
       "    </tr>\n",
       "  </thead>\n",
       "  <tbody>\n",
       "    <tr>\n",
       "      <th>155</th>\n",
       "      <td>148.759995</td>\n",
       "    </tr>\n",
       "    <tr>\n",
       "      <th>156</th>\n",
       "      <td>149.259995</td>\n",
       "    </tr>\n",
       "    <tr>\n",
       "      <th>157</th>\n",
       "      <td>149.479996</td>\n",
       "    </tr>\n",
       "    <tr>\n",
       "      <th>158</th>\n",
       "      <td>148.690002</td>\n",
       "    </tr>\n",
       "    <tr>\n",
       "      <th>159</th>\n",
       "      <td>148.639999</td>\n",
       "    </tr>\n",
       "    <tr>\n",
       "      <th>...</th>\n",
       "      <td>...</td>\n",
       "    </tr>\n",
       "    <tr>\n",
       "      <th>250</th>\n",
       "      <td>159.300003</td>\n",
       "    </tr>\n",
       "    <tr>\n",
       "      <th>251</th>\n",
       "      <td>157.440002</td>\n",
       "    </tr>\n",
       "    <tr>\n",
       "      <th>252</th>\n",
       "      <td>162.949997</td>\n",
       "    </tr>\n",
       "    <tr>\n",
       "      <th>253</th>\n",
       "      <td>158.520004</td>\n",
       "    </tr>\n",
       "    <tr>\n",
       "      <th>254</th>\n",
       "      <td>158.520004</td>\n",
       "    </tr>\n",
       "  </tbody>\n",
       "</table>\n",
       "<p>100 rows × 1 columns</p>\n",
       "</div>"
      ],
      "text/plain": [
       "          Close\n",
       "155  148.759995\n",
       "156  149.259995\n",
       "157  149.479996\n",
       "158  148.690002\n",
       "159  148.639999\n",
       "..          ...\n",
       "250  159.300003\n",
       "251  157.440002\n",
       "252  162.949997\n",
       "253  158.520004\n",
       "254  158.520004\n",
       "\n",
       "[100 rows x 1 columns]"
      ]
     },
     "execution_count": 7,
     "metadata": {},
     "output_type": "execute_result"
    }
   ],
   "source": [
    "fun_inp = pd.DataFrame(prediction_input['Close'])\n",
    "fun_inp"
   ]
  },
  {
   "cell_type": "code",
   "execution_count": 8,
   "metadata": {},
   "outputs": [
    {
     "data": {
      "text/plain": [
       "(100, 1)"
      ]
     },
     "execution_count": 8,
     "metadata": {},
     "output_type": "execute_result"
    }
   ],
   "source": [
    "fun_inp.shape"
   ]
  },
  {
   "cell_type": "code",
   "execution_count": 9,
   "metadata": {},
   "outputs": [],
   "source": [
    "fun_inp = scaler.fit_transform(fun_inp)\n",
    "inp = fun_inp"
   ]
  },
  {
   "cell_type": "code",
   "execution_count": 10,
   "metadata": {},
   "outputs": [],
   "source": [
    "fun_inp = fun_inp.reshape(1,100)"
   ]
  },
  {
   "cell_type": "code",
   "execution_count": 11,
   "metadata": {},
   "outputs": [
    {
     "data": {
      "text/plain": [
       "(1, 100)"
      ]
     },
     "execution_count": 11,
     "metadata": {},
     "output_type": "execute_result"
    }
   ],
   "source": [
    "fun_inp.shape"
   ]
  },
  {
   "cell_type": "code",
   "execution_count": 12,
   "metadata": {},
   "outputs": [
    {
     "data": {
      "text/plain": [
       "[0.026069109711768235,\n",
       " 0.040714687009335115,\n",
       " 0.047158776776068834,\n",
       " 0.02401896130283454,\n",
       " 0.02255431418356757,\n",
       " 0.04247253172098553,\n",
       " 0.028705653305467926,\n",
       " 0.13766878415517336,\n",
       " 0.056532160781335605,\n",
       " 0.03192769818883434,\n",
       " 0.06297625054806932,\n",
       " 0.10603428355872158,\n",
       " 0.09051000737910453,\n",
       " 0.09988294443682122,\n",
       " 0.07527848184431996,\n",
       " 0.0861160660213045,\n",
       " 0.0014646471192669708,\n",
       " 0.0,\n",
       " 0.06209755166601916,\n",
       " 0.06239030231085341,\n",
       " 0.09168145690598806,\n",
       " 0.16461659274899088,\n",
       " 0.2929115459513483,\n",
       " 0.37141207267903464,\n",
       " 0.38517895109455225,\n",
       " 0.3966024835087527,\n",
       " 0.41212675968837065,\n",
       " 0.2618629935921133,\n",
       " 0.3623318862661513,\n",
       " 0.5105450570059249,\n",
       " 0.49502078082630785,\n",
       " 0.46543642863878976,\n",
       " 0.4091974654498376,\n",
       " 0.5111310052431417,\n",
       " 0.6827767421009847,\n",
       " 0.7970125131905395,\n",
       " 0.7817809876557558,\n",
       " 0.9250147157480626,\n",
       " 0.8163447824907406,\n",
       " 0.7750441472441887,\n",
       " 0.9206212213378127,\n",
       " 0.7144112426974356,\n",
       " 0.6816052925741003,\n",
       " 0.6408906055647652,\n",
       " 0.7357941073541197,\n",
       " 0.8134154882522076,\n",
       " 0.8321618093151919,\n",
       " 0.9507910748149975,\n",
       " 0.9203280237454292,\n",
       " 0.9229645673391289,\n",
       " 0.8884007725041441,\n",
       " 0.8699476490335432,\n",
       " 1.0,\n",
       " 0.9323375043968465,\n",
       " 0.7923258211879061,\n",
       " 0.7067957034038184,\n",
       " 0.7117751460512851,\n",
       " 0.7123610942885019,\n",
       " 0.7970125131905395,\n",
       " 0.8101934433688402,\n",
       " 0.7123610942885019,\n",
       " 0.7381374533554368,\n",
       " 0.6423552526840322,\n",
       " 0.5377856162445767,\n",
       " 0.4874047945851414,\n",
       " 0.42589363810388736,\n",
       " 0.4027533756831039,\n",
       " 0.3488577584954671,\n",
       " 0.34622166184931746,\n",
       " 0.33245478343379986,\n",
       " 0.6578795288636492,\n",
       " 0.7882250774224895,\n",
       " 0.7832456347750227,\n",
       " 0.8192736297817245,\n",
       " 0.73315756376042,\n",
       " 0.7182192358180188,\n",
       " 0.6968368181088849,\n",
       " 0.7896897245417556,\n",
       " 0.8321618093151919,\n",
       " 0.710310498932019,\n",
       " 0.6083774060862632,\n",
       " 0.6154074440902138,\n",
       " 0.7299355188770535,\n",
       " 0.7229059278206522,\n",
       " 0.6154074440902138,\n",
       " 0.5691273661961951,\n",
       " 0.48183985064800705,\n",
       " 0.35735244361868457,\n",
       " 0.4355597727539884,\n",
       " 0.4973641268276241,\n",
       " 0.5052724167660756,\n",
       " 0.44903345357712254,\n",
       " 0.5474517508946777,\n",
       " 0.5377856162445767,\n",
       " 0.4481547546950724,\n",
       " 0.3347981294351161,\n",
       " 0.2803165640102643,\n",
       " 0.44171066492833866,\n",
       " 0.3119510646067152,\n",
       " 0.3119510646067152]"
      ]
     },
     "execution_count": 12,
     "metadata": {},
     "output_type": "execute_result"
    }
   ],
   "source": [
    "tmp_inp = list(fun_inp)\n",
    "tmp_inp = tmp_inp[0].tolist()\n",
    "tmp_inp"
   ]
  },
  {
   "cell_type": "code",
   "execution_count": 13,
   "metadata": {},
   "outputs": [],
   "source": [
    "# predicting next n days\n",
    "import tensorflow as tf\n",
    "from tensorflow.keras.models import load_model\n",
    "model = load_model('%s_final_model.h5'%(stock_ticker))"
   ]
  },
  {
   "cell_type": "code",
   "execution_count": 14,
   "metadata": {},
   "outputs": [
    {
     "name": "stdout",
     "output_type": "stream",
     "text": [
      "Enter number of days of prediction: 30\n",
      "[[0.34243687987327576], [0.33474770188331604], [0.3344717025756836], [0.33801764249801636], [0.343429297208786], [0.34975552558898926], [0.35653477907180786], [0.36351850628852844], [0.3705538213253021], [0.3775436282157898], [0.38443419337272644], [0.39120855927467346], [0.39787763357162476], [0.40447211265563965], [0.411031574010849], [0.41759708523750305], [0.4242047369480133], [0.43088167905807495], [0.43764469027519226], [0.44450005888938904], [0.45144474506378174], [0.458469033241272], [0.46555882692337036], [0.47269806265830994], [0.4798712730407715], [0.4870654046535492], [0.49427059292793274], [0.501481831073761], [0.5086979866027832], [0.5159223675727844]]\n"
     ]
    }
   ],
   "source": [
    "lst_out = []\n",
    "n_steps = 100\n",
    "n = int(input(\"Enter number of days of prediction: \"))\n",
    "i = 0\n",
    "\n",
    "while(i<n):\n",
    "    \n",
    "    if(len(tmp_inp)>100):\n",
    "        fun_inp = np.array(tmp_inp[1:])\n",
    "        fun_inp = fun_inp.reshape(1,-1)\n",
    "        fun_inp = fun_inp.reshape((1, n_steps, 1))\n",
    "        yhat = model.predict(fun_inp, verbose = 0)\n",
    "        tmp_inp.extend(yhat[0].tolist())\n",
    "        tmp_inp = tmp_inp[1:]\n",
    "        lst_out.extend(yhat.tolist())\n",
    "        i = i+1\n",
    "    else:\n",
    "        fun_inp = fun_inp.reshape((1, n_steps, 1))\n",
    "        yhat = model.predict(fun_inp, verbose = 0)\n",
    "        tmp_inp.extend(yhat[0].tolist())\n",
    "        lst_out.extend(yhat.tolist())\n",
    "        i = i+1\n",
    "        \n",
    "print(lst_out)"
   ]
  },
  {
   "cell_type": "code",
   "execution_count": 15,
   "metadata": {},
   "outputs": [],
   "source": [
    "plot_new = np.arange(1, 101)\n",
    "plot_pred = np.arange(101, 101 + n)"
   ]
  },
  {
   "cell_type": "code",
   "execution_count": 16,
   "metadata": {},
   "outputs": [
    {
     "data": {
      "text/plain": [
       "[<matplotlib.lines.Line2D at 0x1fc5c8e96c8>]"
      ]
     },
     "execution_count": 16,
     "metadata": {},
     "output_type": "execute_result"
    },
    {
     "data": {
      "image/png": "[encoded data removed]",
      "text/plain": [
       "<Figure size 432x288 with 1 Axes>"
      ]
     },
     "metadata": {
      "needs_background": "light"
     },
     "output_type": "display_data"
    }
   ],
   "source": [
    "plt.plot(plot_new, scaler.inverse_transform(inp))\n",
    "plt.plot(plot_pred, scaler.inverse_transform(lst_out))"
   ]
  },
  {
   "cell_type": "code",
   "execution_count": 17,
   "metadata": {},
   "outputs": [
    {
     "data": {
      "text/plain": [
       "[<matplotlib.lines.Line2D at 0x1fc5da95d08>]"
      ]
     },
     "execution_count": 17,
     "metadata": {},
     "output_type": "execute_result"
    },
    {
     "data": {
      "image/png": "[encoded data removed]",
      "text/plain": [
       "<Figure size 432x288 with 1 Axes>"
      ]
     },
     "metadata": {
      "needs_background": "light"
     },
     "output_type": "display_data"
    }
   ],
   "source": [
    "inp = inp.tolist()\n",
    "inp.extend(lst_out)\n",
    "plt.plot(inp)"
   ]
  },
  {
   "cell_type": "code",
   "execution_count": 18,
   "metadata": {},
   "outputs": [],
   "source": [
    "final = scaler.inverse_transform(inp).tolist()"
   ]
  },
  {
   "cell_type": "code",
   "execution_count": 19,
   "metadata": {},
   "outputs": [
    {
     "data": {
      "text/plain": [
       "<matplotlib.legend.Legend at 0x1fc5c70ab88>"
      ]
     },
     "execution_count": 19,
     "metadata": {},
     "output_type": "execute_result"
    },
    {
     "data": {
      "image/png": "[encoded data removed]",
      "text/plain": [
       "<Figure size 432x288 with 1 Axes>"
      ]
     },
     "metadata": {
      "needs_background": "light"
     },
     "output_type": "display_data"
    }
   ],
   "source": [
    "# plotting final result\n",
    "plt.plot(final)\n",
    "plt.ylabel(\"Price\")\n",
    "plt.xlabel(\"Time\")\n",
    "plt.title(\"%s prediction \"%(stock_ticker))\n",
    "plt.axhline(y=final[len(final)-1], color = 'red', linestyle = ':', label = 'NEXT %d Days: %f'%(n, (round(float(*final[len(final)-1]),2))))\n",
    "plt.legend()                                                                                                                "
   ]
  },
  {
   "cell_type": "code",
   "execution_count": null,
   "metadata": {},
   "outputs": [],
   "source": []
  }
 ],
 "metadata": {
  "kernelspec": {
   "display_name": "Python 3",
   "language": "python",
   "name": "python3"
  },
  "language_info": {
   "codemirror_mode": {
    "name": "ipython",
    "version": 3
   },
   "file_extension": ".py",
   "mimetype": "text/x-python",
   "name": "python",
   "nbconvert_exporter": "python",
   "pygments_lexer": "ipython3",
   "version": "3.7.6"
  }
 },
 "nbformat": 4,
 "nbformat_minor": 4
}
