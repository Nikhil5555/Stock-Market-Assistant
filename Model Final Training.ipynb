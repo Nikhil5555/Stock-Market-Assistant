{
 "cells": [
  {
   "cell_type": "code",
   "execution_count": 1,
   "metadata": {},
   "outputs": [
    {
     "data": {
      "text/html": [
       "<div>\n",
       "<style scoped>\n",
       "    .dataframe tbody tr th:only-of-type {\n",
       "        vertical-align: middle;\n",
       "    }\n",
       "\n",
       "    .dataframe tbody tr th {\n",
       "        vertical-align: top;\n",
       "    }\n",
       "\n",
       "    .dataframe thead th {\n",
       "        text-align: right;\n",
       "    }\n",
       "</style>\n",
       "<table border=\"1\" class=\"dataframe\">\n",
       "  <thead>\n",
       "    <tr style=\"text-align: right;\">\n",
       "      <th></th>\n",
       "      <th>High</th>\n",
       "      <th>Low</th>\n",
       "      <th>Open</th>\n",
       "      <th>Close</th>\n",
       "      <th>Volume</th>\n",
       "      <th>Adj Close</th>\n",
       "    </tr>\n",
       "    <tr>\n",
       "      <th>Date</th>\n",
       "      <th></th>\n",
       "      <th></th>\n",
       "      <th></th>\n",
       "      <th></th>\n",
       "      <th></th>\n",
       "      <th></th>\n",
       "    </tr>\n",
       "  </thead>\n",
       "  <tbody>\n",
       "    <tr>\n",
       "      <th>2017-03-14</th>\n",
       "      <td>2910.000000</td>\n",
       "      <td>2854.050049</td>\n",
       "      <td>2902.000000</td>\n",
       "      <td>2866.699951</td>\n",
       "      <td>309456.0</td>\n",
       "      <td>2491.052490</td>\n",
       "    </tr>\n",
       "    <tr>\n",
       "      <th>2017-03-15</th>\n",
       "      <td>2890.000000</td>\n",
       "      <td>2856.050049</td>\n",
       "      <td>2869.699951</td>\n",
       "      <td>2873.100098</td>\n",
       "      <td>221254.0</td>\n",
       "      <td>2496.613770</td>\n",
       "    </tr>\n",
       "    <tr>\n",
       "      <th>2017-03-16</th>\n",
       "      <td>2944.899902</td>\n",
       "      <td>2862.500000</td>\n",
       "      <td>2881.300049</td>\n",
       "      <td>2936.399902</td>\n",
       "      <td>431866.0</td>\n",
       "      <td>2551.618896</td>\n",
       "    </tr>\n",
       "    <tr>\n",
       "      <th>2017-03-17</th>\n",
       "      <td>2948.699951</td>\n",
       "      <td>2890.149902</td>\n",
       "      <td>2945.899902</td>\n",
       "      <td>2912.500000</td>\n",
       "      <td>296053.0</td>\n",
       "      <td>2530.850830</td>\n",
       "    </tr>\n",
       "    <tr>\n",
       "      <th>2017-03-20</th>\n",
       "      <td>2932.500000</td>\n",
       "      <td>2905.149902</td>\n",
       "      <td>2916.149902</td>\n",
       "      <td>2923.550049</td>\n",
       "      <td>190575.0</td>\n",
       "      <td>2540.452637</td>\n",
       "    </tr>\n",
       "  </tbody>\n",
       "</table>\n",
       "</div>"
      ],
      "text/plain": [
       "                   High          Low         Open        Close    Volume  \\\n",
       "Date                                                                       \n",
       "2017-03-14  2910.000000  2854.050049  2902.000000  2866.699951  309456.0   \n",
       "2017-03-15  2890.000000  2856.050049  2869.699951  2873.100098  221254.0   \n",
       "2017-03-16  2944.899902  2862.500000  2881.300049  2936.399902  431866.0   \n",
       "2017-03-17  2948.699951  2890.149902  2945.899902  2912.500000  296053.0   \n",
       "2017-03-20  2932.500000  2905.149902  2916.149902  2923.550049  190575.0   \n",
       "\n",
       "              Adj Close  \n",
       "Date                     \n",
       "2017-03-14  2491.052490  \n",
       "2017-03-15  2496.613770  \n",
       "2017-03-16  2551.618896  \n",
       "2017-03-17  2530.850830  \n",
       "2017-03-20  2540.452637  "
      ]
     },
     "execution_count": 1,
     "metadata": {},
     "output_type": "execute_result"
    }
   ],
   "source": [
    "import pandas as pd\n",
    "import numpy as np\n",
    "import pandas_datareader as data\n",
    "import matplotlib.pyplot as plt\n",
    "from datetime import date\n",
    "from dateutil.relativedelta import relativedelta\n",
    "\n",
    "start =  (date.today() - relativedelta(years = 5)).strftime(\"%Y-%m-%d\")\n",
    "end = date.today().strftime(\"%Y-%m-%d\")\n",
    "df = data.DataReader('BAJAJ-AUTO.NS','yahoo', start, end)\n",
    "df.head()"
   ]
  },
  {
   "cell_type": "code",
   "execution_count": 2,
   "metadata": {},
   "outputs": [
    {
     "data": {
      "text/html": [
       "<div>\n",
       "<style scoped>\n",
       "    .dataframe tbody tr th:only-of-type {\n",
       "        vertical-align: middle;\n",
       "    }\n",
       "\n",
       "    .dataframe tbody tr th {\n",
       "        vertical-align: top;\n",
       "    }\n",
       "\n",
       "    .dataframe thead th {\n",
       "        text-align: right;\n",
       "    }\n",
       "</style>\n",
       "<table border=\"1\" class=\"dataframe\">\n",
       "  <thead>\n",
       "    <tr style=\"text-align: right;\">\n",
       "      <th></th>\n",
       "      <th>High</th>\n",
       "      <th>Low</th>\n",
       "      <th>Open</th>\n",
       "      <th>Close</th>\n",
       "      <th>Volume</th>\n",
       "      <th>Adj Close</th>\n",
       "    </tr>\n",
       "    <tr>\n",
       "      <th>Date</th>\n",
       "      <th></th>\n",
       "      <th></th>\n",
       "      <th></th>\n",
       "      <th></th>\n",
       "      <th></th>\n",
       "      <th></th>\n",
       "    </tr>\n",
       "  </thead>\n",
       "  <tbody>\n",
       "    <tr>\n",
       "      <th>2022-03-07</th>\n",
       "      <td>3279.000000</td>\n",
       "      <td>3125.000000</td>\n",
       "      <td>3185.0</td>\n",
       "      <td>3234.649902</td>\n",
       "      <td>335205.0</td>\n",
       "      <td>3234.649902</td>\n",
       "    </tr>\n",
       "    <tr>\n",
       "      <th>2022-03-08</th>\n",
       "      <td>3354.449951</td>\n",
       "      <td>3175.699951</td>\n",
       "      <td>3229.0</td>\n",
       "      <td>3317.100098</td>\n",
       "      <td>557492.0</td>\n",
       "      <td>3317.100098</td>\n",
       "    </tr>\n",
       "    <tr>\n",
       "      <th>2022-03-09</th>\n",
       "      <td>3360.000000</td>\n",
       "      <td>3293.000000</td>\n",
       "      <td>3320.0</td>\n",
       "      <td>3339.000000</td>\n",
       "      <td>508262.0</td>\n",
       "      <td>3339.000000</td>\n",
       "    </tr>\n",
       "    <tr>\n",
       "      <th>2022-03-10</th>\n",
       "      <td>3440.000000</td>\n",
       "      <td>3385.399902</td>\n",
       "      <td>3399.0</td>\n",
       "      <td>3422.350098</td>\n",
       "      <td>350154.0</td>\n",
       "      <td>3422.350098</td>\n",
       "    </tr>\n",
       "    <tr>\n",
       "      <th>2022-03-11</th>\n",
       "      <td>3445.500000</td>\n",
       "      <td>3386.449951</td>\n",
       "      <td>3400.0</td>\n",
       "      <td>3420.250000</td>\n",
       "      <td>141246.0</td>\n",
       "      <td>3420.250000</td>\n",
       "    </tr>\n",
       "  </tbody>\n",
       "</table>\n",
       "</div>"
      ],
      "text/plain": [
       "                   High          Low    Open        Close    Volume  \\\n",
       "Date                                                                  \n",
       "2022-03-07  3279.000000  3125.000000  3185.0  3234.649902  335205.0   \n",
       "2022-03-08  3354.449951  3175.699951  3229.0  3317.100098  557492.0   \n",
       "2022-03-09  3360.000000  3293.000000  3320.0  3339.000000  508262.0   \n",
       "2022-03-10  3440.000000  3385.399902  3399.0  3422.350098  350154.0   \n",
       "2022-03-11  3445.500000  3386.449951  3400.0  3420.250000  141246.0   \n",
       "\n",
       "              Adj Close  \n",
       "Date                     \n",
       "2022-03-07  3234.649902  \n",
       "2022-03-08  3317.100098  \n",
       "2022-03-09  3339.000000  \n",
       "2022-03-10  3422.350098  \n",
       "2022-03-11  3420.250000  "
      ]
     },
     "execution_count": 2,
     "metadata": {},
     "output_type": "execute_result"
    }
   ],
   "source": [
    "df.tail()"
   ]
  },
  {
   "cell_type": "code",
   "execution_count": 3,
   "metadata": {},
   "outputs": [
    {
     "data": {
      "text/html": [
       "<div>\n",
       "<style scoped>\n",
       "    .dataframe tbody tr th:only-of-type {\n",
       "        vertical-align: middle;\n",
       "    }\n",
       "\n",
       "    .dataframe tbody tr th {\n",
       "        vertical-align: top;\n",
       "    }\n",
       "\n",
       "    .dataframe thead th {\n",
       "        text-align: right;\n",
       "    }\n",
       "</style>\n",
       "<table border=\"1\" class=\"dataframe\">\n",
       "  <thead>\n",
       "    <tr style=\"text-align: right;\">\n",
       "      <th></th>\n",
       "      <th>Date</th>\n",
       "      <th>High</th>\n",
       "      <th>Low</th>\n",
       "      <th>Open</th>\n",
       "      <th>Close</th>\n",
       "      <th>Volume</th>\n",
       "      <th>Adj Close</th>\n",
       "    </tr>\n",
       "  </thead>\n",
       "  <tbody>\n",
       "    <tr>\n",
       "      <th>0</th>\n",
       "      <td>2017-03-14</td>\n",
       "      <td>2910.000000</td>\n",
       "      <td>2854.050049</td>\n",
       "      <td>2902.000000</td>\n",
       "      <td>2866.699951</td>\n",
       "      <td>309456.0</td>\n",
       "      <td>2491.052490</td>\n",
       "    </tr>\n",
       "    <tr>\n",
       "      <th>1</th>\n",
       "      <td>2017-03-15</td>\n",
       "      <td>2890.000000</td>\n",
       "      <td>2856.050049</td>\n",
       "      <td>2869.699951</td>\n",
       "      <td>2873.100098</td>\n",
       "      <td>221254.0</td>\n",
       "      <td>2496.613770</td>\n",
       "    </tr>\n",
       "    <tr>\n",
       "      <th>2</th>\n",
       "      <td>2017-03-16</td>\n",
       "      <td>2944.899902</td>\n",
       "      <td>2862.500000</td>\n",
       "      <td>2881.300049</td>\n",
       "      <td>2936.399902</td>\n",
       "      <td>431866.0</td>\n",
       "      <td>2551.618896</td>\n",
       "    </tr>\n",
       "    <tr>\n",
       "      <th>3</th>\n",
       "      <td>2017-03-17</td>\n",
       "      <td>2948.699951</td>\n",
       "      <td>2890.149902</td>\n",
       "      <td>2945.899902</td>\n",
       "      <td>2912.500000</td>\n",
       "      <td>296053.0</td>\n",
       "      <td>2530.850830</td>\n",
       "    </tr>\n",
       "    <tr>\n",
       "      <th>4</th>\n",
       "      <td>2017-03-20</td>\n",
       "      <td>2932.500000</td>\n",
       "      <td>2905.149902</td>\n",
       "      <td>2916.149902</td>\n",
       "      <td>2923.550049</td>\n",
       "      <td>190575.0</td>\n",
       "      <td>2540.452637</td>\n",
       "    </tr>\n",
       "  </tbody>\n",
       "</table>\n",
       "</div>"
      ],
      "text/plain": [
       "        Date         High          Low         Open        Close    Volume  \\\n",
       "0 2017-03-14  2910.000000  2854.050049  2902.000000  2866.699951  309456.0   \n",
       "1 2017-03-15  2890.000000  2856.050049  2869.699951  2873.100098  221254.0   \n",
       "2 2017-03-16  2944.899902  2862.500000  2881.300049  2936.399902  431866.0   \n",
       "3 2017-03-17  2948.699951  2890.149902  2945.899902  2912.500000  296053.0   \n",
       "4 2017-03-20  2932.500000  2905.149902  2916.149902  2923.550049  190575.0   \n",
       "\n",
       "     Adj Close  \n",
       "0  2491.052490  \n",
       "1  2496.613770  \n",
       "2  2551.618896  \n",
       "3  2530.850830  \n",
       "4  2540.452637  "
      ]
     },
     "execution_count": 3,
     "metadata": {},
     "output_type": "execute_result"
    }
   ],
   "source": [
    "df = df.reset_index()\n",
    "df.head()"
   ]
  },
  {
   "cell_type": "code",
   "execution_count": 4,
   "metadata": {},
   "outputs": [
    {
     "data": {
      "text/plain": [
       "[<matplotlib.lines.Line2D at 0x29d2e0e0c88>]"
      ]
     },
     "execution_count": 4,
     "metadata": {},
     "output_type": "execute_result"
    },
    {
     "data": {
      "image/png": "[encoded data removed]",
      "text/plain": [
       "<Figure size 432x288 with 1 Axes>"
      ]
     },
     "metadata": {
      "needs_background": "light"
     },
     "output_type": "display_data"
    }
   ],
   "source": [
    "plt.plot(df.Date, df.Close)"
   ]
  },
  {
   "cell_type": "code",
   "execution_count": 5,
   "metadata": {},
   "outputs": [
    {
     "data": {
      "text/plain": [
       "(1236, 7)"
      ]
     },
     "execution_count": 5,
     "metadata": {},
     "output_type": "execute_result"
    }
   ],
   "source": [
    "df.shape"
   ]
  },
  {
   "cell_type": "code",
   "execution_count": 6,
   "metadata": {},
   "outputs": [],
   "source": [
    "data_training = pd.DataFrame(df['Close'])"
   ]
  },
  {
   "cell_type": "code",
   "execution_count": 7,
   "metadata": {},
   "outputs": [],
   "source": [
    "from sklearn.preprocessing import MinMaxScaler\n",
    "scaler = MinMaxScaler(feature_range=(0,1))"
   ]
  },
  {
   "cell_type": "code",
   "execution_count": 8,
   "metadata": {},
   "outputs": [
    {
     "data": {
      "text/plain": [
       "array([[0.39463869],\n",
       "       [0.3973512 ],\n",
       "       [0.42417883],\n",
       "       ...,\n",
       "       [0.59480826],\n",
       "       [0.63013359],\n",
       "       [0.62924353]])"
      ]
     },
     "execution_count": 8,
     "metadata": {},
     "output_type": "execute_result"
    }
   ],
   "source": [
    "data_training_array = scaler.fit_transform(data_training)\n",
    "data_training_array"
   ]
  },
  {
   "cell_type": "code",
   "execution_count": 9,
   "metadata": {},
   "outputs": [],
   "source": [
    "x_train = []\n",
    "y_train = []\n",
    "\n",
    "for i in range(100, data_training_array.shape[0]):\n",
    "    x_train.append(data_training_array[i-100:i])\n",
    "    y_train.append(data_training_array[i,0])\n",
    "    \n",
    "x_train, y_train = np.array(x_train), np.array(y_train)"
   ]
  },
  {
   "cell_type": "code",
   "execution_count": 10,
   "metadata": {},
   "outputs": [
    {
     "data": {
      "text/plain": [
       "(1136, 100, 1)"
      ]
     },
     "execution_count": 10,
     "metadata": {},
     "output_type": "execute_result"
    }
   ],
   "source": [
    "x_train.shape"
   ]
  },
  {
   "cell_type": "code",
   "execution_count": 11,
   "metadata": {},
   "outputs": [],
   "source": [
    "import tensorflow as tf\n",
    "from tensorflow.keras.layers import Dropout, LSTM, Dense\n",
    "from tensorflow.keras.models import Sequential"
   ]
  },
  {
   "cell_type": "code",
   "execution_count": 12,
   "metadata": {},
   "outputs": [],
   "source": [
    "model = Sequential()\n",
    "model.add(LSTM(units=50,return_sequences=True,input_shape=(x_train.shape[1],1)))\n",
    "model.add(LSTM(units=50,return_sequences=True))\n",
    "model.add(LSTM(units=50))\n",
    "model.add(Dense(units=1,activation='linear'))"
   ]
  },
  {
   "cell_type": "code",
   "execution_count": 13,
   "metadata": {},
   "outputs": [
    {
     "name": "stdout",
     "output_type": "stream",
     "text": [
      "Model: \"sequential\"\n",
      "_________________________________________________________________\n",
      " Layer (type)                Output Shape              Param #   \n",
      "=================================================================\n",
      " lstm (LSTM)                 (None, 100, 50)           10400     \n",
      "                                                                 \n",
      " lstm_1 (LSTM)               (None, 100, 50)           20200     \n",
      "                                                                 \n",
      " lstm_2 (LSTM)               (None, 50)                20200     \n",
      "                                                                 \n",
      " dense (Dense)               (None, 1)                 51        \n",
      "                                                                 \n",
      "=================================================================\n",
      "Total params: 50,851\n",
      "Trainable params: 50,851\n",
      "Non-trainable params: 0\n",
      "_________________________________________________________________\n"
     ]
    }
   ],
   "source": [
    "model.summary()"
   ]
  },
  {
   "cell_type": "code",
   "execution_count": 14,
   "metadata": {},
   "outputs": [
    {
     "name": "stdout",
     "output_type": "stream",
     "text": [
      "Epoch 1/100\n",
      "18/18 [==============================] - 20s 247ms/step - loss: 0.0559\n",
      "Epoch 2/100\n",
      "18/18 [==============================] - 4s 229ms/step - loss: 0.0087\n",
      "Epoch 3/100\n",
      "18/18 [==============================] - 4s 217ms/step - loss: 0.0055\n",
      "Epoch 4/100\n",
      "18/18 [==============================] - 4s 216ms/step - loss: 0.0044\n",
      "Epoch 5/100\n",
      "18/18 [==============================] - 4s 223ms/step - loss: 0.0040\n",
      "Epoch 6/100\n",
      "18/18 [==============================] - 5s 257ms/step - loss: 0.0037\n",
      "Epoch 7/100\n",
      "18/18 [==============================] - 4s 220ms/step - loss: 0.0033\n",
      "Epoch 8/100\n",
      "18/18 [==============================] - 4s 245ms/step - loss: 0.0029\n",
      "Epoch 9/100\n",
      "18/18 [==============================] - 4s 209ms/step - loss: 0.0028\n",
      "Epoch 10/100\n",
      "18/18 [==============================] - 4s 200ms/step - loss: 0.0027\n",
      "Epoch 11/100\n",
      "18/18 [==============================] - 4s 219ms/step - loss: 0.0025\n",
      "Epoch 12/100\n",
      "18/18 [==============================] - 4s 243ms/step - loss: 0.0023\n",
      "Epoch 13/100\n",
      "18/18 [==============================] - 5s 251ms/step - loss: 0.0023\n",
      "Epoch 14/100\n",
      "18/18 [==============================] - 3s 192ms/step - loss: 0.0022\n",
      "Epoch 15/100\n",
      "18/18 [==============================] - 3s 189ms/step - loss: 0.0022\n",
      "Epoch 16/100\n",
      "18/18 [==============================] - 3s 192ms/step - loss: 0.0021\n",
      "Epoch 17/100\n",
      "18/18 [==============================] - 3s 181ms/step - loss: 0.0021\n",
      "Epoch 18/100\n",
      "18/18 [==============================] - 3s 185ms/step - loss: 0.0023\n",
      "Epoch 19/100\n",
      "18/18 [==============================] - 3s 178ms/step - loss: 0.0020\n",
      "Epoch 20/100\n",
      "18/18 [==============================] - 3s 181ms/step - loss: 0.0018\n",
      "Epoch 21/100\n",
      "18/18 [==============================] - 3s 183ms/step - loss: 0.0018\n",
      "Epoch 22/100\n",
      "18/18 [==============================] - 3s 182ms/step - loss: 0.0017\n",
      "Epoch 23/100\n",
      "18/18 [==============================] - 3s 181ms/step - loss: 0.0022\n",
      "Epoch 24/100\n",
      "18/18 [==============================] - 3s 181ms/step - loss: 0.0019\n",
      "Epoch 25/100\n",
      "18/18 [==============================] - 3s 180ms/step - loss: 0.0017\n",
      "Epoch 26/100\n",
      "18/18 [==============================] - 3s 182ms/step - loss: 0.0018\n",
      "Epoch 27/100\n",
      "18/18 [==============================] - 3s 182ms/step - loss: 0.0019\n",
      "Epoch 28/100\n",
      "18/18 [==============================] - 3s 184ms/step - loss: 0.0015\n",
      "Epoch 29/100\n",
      "18/18 [==============================] - 3s 180ms/step - loss: 0.0016\n",
      "Epoch 30/100\n",
      "18/18 [==============================] - 3s 180ms/step - loss: 0.0015\n",
      "Epoch 31/100\n",
      "18/18 [==============================] - 3s 183ms/step - loss: 0.0015\n",
      "Epoch 32/100\n",
      "18/18 [==============================] - 3s 182ms/step - loss: 0.0014\n",
      "Epoch 33/100\n",
      "18/18 [==============================] - 3s 179ms/step - loss: 0.0014\n",
      "Epoch 34/100\n",
      "18/18 [==============================] - 3s 182ms/step - loss: 0.0013\n",
      "Epoch 35/100\n",
      "18/18 [==============================] - 3s 186ms/step - loss: 0.0012\n",
      "Epoch 36/100\n",
      "18/18 [==============================] - 4s 216ms/step - loss: 0.0013\n",
      "Epoch 37/100\n",
      "18/18 [==============================] - 4s 217ms/step - loss: 0.0012\n",
      "Epoch 38/100\n",
      "18/18 [==============================] - 4s 205ms/step - loss: 0.0011\n",
      "Epoch 39/100\n",
      "18/18 [==============================] - 4s 237ms/step - loss: 0.0011\n",
      "Epoch 40/100\n",
      "18/18 [==============================] - 4s 212ms/step - loss: 0.0011\n",
      "Epoch 41/100\n",
      "18/18 [==============================] - 3s 190ms/step - loss: 0.0011\n",
      "Epoch 42/100\n",
      "18/18 [==============================] - 4s 237ms/step - loss: 0.0011\n",
      "Epoch 43/100\n",
      "18/18 [==============================] - 4s 225ms/step - loss: 0.0012\n",
      "Epoch 44/100\n",
      "18/18 [==============================] - 4s 227ms/step - loss: 9.8949e-04\n",
      "Epoch 45/100\n",
      "18/18 [==============================] - 4s 205ms/step - loss: 0.0011\n",
      "Epoch 46/100\n",
      "18/18 [==============================] - 4s 197ms/step - loss: 0.0011\n",
      "Epoch 47/100\n",
      "18/18 [==============================] - 3s 191ms/step - loss: 9.9922e-04\n",
      "Epoch 48/100\n",
      "18/18 [==============================] - 3s 192ms/step - loss: 9.7258e-04\n",
      "Epoch 49/100\n",
      "18/18 [==============================] - 3s 192ms/step - loss: 9.4135e-04\n",
      "Epoch 50/100\n",
      "18/18 [==============================] - 4s 196ms/step - loss: 8.6747e-04\n",
      "Epoch 51/100\n",
      "18/18 [==============================] - 3s 183ms/step - loss: 9.4982e-04\n",
      "Epoch 52/100\n",
      "18/18 [==============================] - 3s 183ms/step - loss: 8.8864e-04\n",
      "Epoch 53/100\n",
      "18/18 [==============================] - 3s 182ms/step - loss: 8.7846e-04\n",
      "Epoch 54/100\n",
      "18/18 [==============================] - 3s 184ms/step - loss: 8.6676e-04\n",
      "Epoch 55/100\n",
      "18/18 [==============================] - 3s 186ms/step - loss: 8.1571e-04\n",
      "Epoch 56/100\n",
      "18/18 [==============================] - 3s 182ms/step - loss: 8.3069e-04\n",
      "Epoch 57/100\n",
      "18/18 [==============================] - 3s 182ms/step - loss: 8.4619e-04\n",
      "Epoch 58/100\n",
      "18/18 [==============================] - 3s 181ms/step - loss: 8.9517e-04\n",
      "Epoch 59/100\n",
      "18/18 [==============================] - 3s 184ms/step - loss: 9.8331e-04\n",
      "Epoch 60/100\n",
      "18/18 [==============================] - 3s 184ms/step - loss: 8.1104e-04\n",
      "Epoch 61/100\n",
      "18/18 [==============================] - 3s 182ms/step - loss: 7.9973e-04\n",
      "Epoch 62/100\n",
      "18/18 [==============================] - 3s 184ms/step - loss: 8.3543e-04\n",
      "Epoch 63/100\n",
      "18/18 [==============================] - 3s 183ms/step - loss: 8.7518e-04\n",
      "Epoch 64/100\n",
      "18/18 [==============================] - 3s 187ms/step - loss: 8.5699e-04\n",
      "Epoch 65/100\n",
      "18/18 [==============================] - 3s 183ms/step - loss: 9.0796e-04\n",
      "Epoch 66/100\n",
      "18/18 [==============================] - 3s 184ms/step - loss: 8.2368e-04\n",
      "Epoch 67/100\n",
      "18/18 [==============================] - 3s 184ms/step - loss: 8.5601e-04\n",
      "Epoch 68/100\n",
      "18/18 [==============================] - 3s 183ms/step - loss: 9.6517e-04\n",
      "Epoch 69/100\n",
      "18/18 [==============================] - 3s 184ms/step - loss: 7.8401e-04\n",
      "Epoch 70/100\n",
      "18/18 [==============================] - 3s 181ms/step - loss: 7.5468e-04\n",
      "Epoch 71/100\n",
      "18/18 [==============================] - 3s 181ms/step - loss: 7.0291e-04\n",
      "Epoch 72/100\n",
      "18/18 [==============================] - 3s 184ms/step - loss: 7.3515e-04\n",
      "Epoch 73/100\n",
      "18/18 [==============================] - 3s 182ms/step - loss: 6.8813e-04\n",
      "Epoch 74/100\n",
      "18/18 [==============================] - 3s 186ms/step - loss: 6.5403e-04\n",
      "Epoch 75/100\n",
      "18/18 [==============================] - 3s 187ms/step - loss: 7.2072e-04\n",
      "Epoch 76/100\n",
      "18/18 [==============================] - 3s 186ms/step - loss: 7.4428e-04\n",
      "Epoch 77/100\n",
      "18/18 [==============================] - 4s 210ms/step - loss: 6.2781e-04\n",
      "Epoch 78/100\n",
      "18/18 [==============================] - 4s 194ms/step - loss: 6.0343e-04\n",
      "Epoch 79/100\n",
      "18/18 [==============================] - 3s 193ms/step - loss: 6.8131e-04\n",
      "Epoch 80/100\n",
      "18/18 [==============================] - 3s 185ms/step - loss: 6.3621e-04\n",
      "Epoch 81/100\n",
      "18/18 [==============================] - 3s 185ms/step - loss: 6.4560e-04\n",
      "Epoch 82/100\n",
      "18/18 [==============================] - 4s 198ms/step - loss: 6.1520e-04\n",
      "Epoch 83/100\n",
      "18/18 [==============================] - 4s 228ms/step - loss: 5.9232e-04\n",
      "Epoch 84/100\n",
      "18/18 [==============================] - 4s 249ms/step - loss: 7.0242e-04\n",
      "Epoch 85/100\n",
      "18/18 [==============================] - 4s 227ms/step - loss: 6.5353e-04\n",
      "Epoch 86/100\n",
      "18/18 [==============================] - 4s 238ms/step - loss: 6.0786e-04\n",
      "Epoch 87/100\n",
      "18/18 [==============================] - 4s 199ms/step - loss: 7.7113e-04\n",
      "Epoch 88/100\n",
      "18/18 [==============================] - 4s 220ms/step - loss: 6.5853e-04\n",
      "Epoch 89/100\n",
      "18/18 [==============================] - 4s 222ms/step - loss: 5.7789e-04\n",
      "Epoch 90/100\n",
      "18/18 [==============================] - 4s 208ms/step - loss: 5.6498e-04\n",
      "Epoch 91/100\n",
      "18/18 [==============================] - 4s 195ms/step - loss: 5.7368e-04\n",
      "Epoch 92/100\n",
      "18/18 [==============================] - 4s 196ms/step - loss: 6.2165e-04\n",
      "Epoch 93/100\n",
      "18/18 [==============================] - 4s 208ms/step - loss: 6.2500e-04\n",
      "Epoch 94/100\n",
      "18/18 [==============================] - 4s 199ms/step - loss: 5.7171e-04\n",
      "Epoch 95/100\n",
      "18/18 [==============================] - 4s 227ms/step - loss: 5.4979e-04\n",
      "Epoch 96/100\n",
      "18/18 [==============================] - 4s 200ms/step - loss: 5.2708e-04\n",
      "Epoch 97/100\n"
     ]
    },
    {
     "name": "stdout",
     "output_type": "stream",
     "text": [
      "18/18 [==============================] - 4s 197ms/step - loss: 5.3664e-04\n",
      "Epoch 98/100\n",
      "18/18 [==============================] - 3s 188ms/step - loss: 5.4538e-04\n",
      "Epoch 99/100\n",
      "18/18 [==============================] - 3s 190ms/step - loss: 5.6101e-04\n",
      "Epoch 100/100\n",
      "18/18 [==============================] - 3s 190ms/step - loss: 5.2979e-04\n"
     ]
    },
    {
     "data": {
      "text/plain": [
       "<keras.callbacks.History at 0x29d3a6e7c08>"
      ]
     },
     "execution_count": 14,
     "metadata": {},
     "output_type": "execute_result"
    }
   ],
   "source": [
    "model.compile(optimizer = 'adam', loss = 'mean_squared_error')\n",
    "model.fit(x_train, y_train, epochs = 100,batch_size=64)"
   ]
  },
  {
   "cell_type": "code",
   "execution_count": 15,
   "metadata": {},
   "outputs": [],
   "source": [
    "model.save('Bajaj_final_model.h5')"
   ]
  },
  {
   "cell_type": "code",
   "execution_count": null,
   "metadata": {},
   "outputs": [],
   "source": []
  }
 ],
 "metadata": {
  "kernelspec": {
   "display_name": "Python 3",
   "language": "python",
   "name": "python3"
  },
  "language_info": {
   "codemirror_mode": {
    "name": "ipython",
    "version": 3
   },
   "file_extension": ".py",
   "mimetype": "text/x-python",
   "name": "python",
   "nbconvert_exporter": "python",
   "pygments_lexer": "ipython3",
   "version": "3.7.6"
  }
 },
 "nbformat": 4,
 "nbformat_minor": 4
}
